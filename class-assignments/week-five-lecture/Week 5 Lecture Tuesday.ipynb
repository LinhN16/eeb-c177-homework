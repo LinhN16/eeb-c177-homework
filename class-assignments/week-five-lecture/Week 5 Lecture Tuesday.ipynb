{
 "cells": [
  {
   "cell_type": "code",
   "execution_count": 1,
   "metadata": {},
   "outputs": [],
   "source": [
    "#have a default value for keys that weren't supplied a value\n",
    "from collections import defaultdict"
   ]
  },
  {
   "cell_type": "code",
   "execution_count": 3,
   "metadata": {},
   "outputs": [],
   "source": [
    "ice_cream = defaultdict (lambda: 'Vanilla')"
   ]
  },
  {
   "cell_type": "code",
   "execution_count": 4,
   "metadata": {},
   "outputs": [
    {
     "name": "stdout",
     "output_type": "stream",
     "text": [
      "defaultdict(<function <lambda> at 0x7f75cd5a2170>, {})\n"
     ]
    }
   ],
   "source": [
    "print (ice_cream)"
   ]
  },
  {
   "cell_type": "code",
   "execution_count": 5,
   "metadata": {},
   "outputs": [],
   "source": [
    "ice_cream['Sarah'] = 'Chunky Monkey'"
   ]
  },
  {
   "cell_type": "code",
   "execution_count": 6,
   "metadata": {},
   "outputs": [
    {
     "name": "stdout",
     "output_type": "stream",
     "text": [
      "defaultdict(<function <lambda> at 0x7f75cd5a2170>, {'Sarah': 'Chunky Monkey'})\n"
     ]
    }
   ],
   "source": [
    "print (ice_cream)"
   ]
  },
  {
   "cell_type": "code",
   "execution_count": 10,
   "metadata": {},
   "outputs": [
    {
     "name": "stdout",
     "output_type": "stream",
     "text": [
      "Chunky Monkey\n",
      "Vanilla\n",
      "Peanut Butter\n"
     ]
    }
   ],
   "source": [
    "#good to have default value and load a new person and not worry about finding a new value\n",
    "#always start with default value\n",
    "print (ice_cream['Sarah'])\n",
    "print (ice_cream['Joe'])\n",
    "ice_cream['Joe'] = 'Peanut Butter'\n",
    "print (ice_cream['Joe'])"
   ]
  },
  {
   "cell_type": "code",
   "execution_count": 11,
   "metadata": {},
   "outputs": [],
   "source": [
    "food_list = 'pasta pizza bread pizza coffee tacos taco tacos burgers burger burgers tacos pasta pasta cheese'.split()"
   ]
  },
  {
   "cell_type": "code",
   "execution_count": 12,
   "metadata": {},
   "outputs": [
    {
     "name": "stdout",
     "output_type": "stream",
     "text": [
      "['pasta', 'pizza', 'bread', 'pizza', 'coffee', 'tacos', 'taco', 'tacos', 'burgers', 'burger', 'burgers', 'tacos', 'pasta', 'pasta', 'cheese']\n"
     ]
    }
   ],
   "source": [
    "print (food_list)"
   ]
  },
  {
   "cell_type": "code",
   "execution_count": 13,
   "metadata": {},
   "outputs": [
    {
     "name": "stdout",
     "output_type": "stream",
     "text": [
      "defaultdict(<class 'int'>, {})\n"
     ]
    }
   ],
   "source": [
    "#lambda allows you to specificy the value whereas integer default is 0\n",
    "#we will write a loop that will count the list\n",
    "food_counts = defaultdict(int)\n",
    "print (food_counts)"
   ]
  },
  {
   "cell_type": "code",
   "execution_count": 18,
   "metadata": {},
   "outputs": [
    {
     "name": "stdout",
     "output_type": "stream",
     "text": [
      "defaultdict(<class 'int'>, {'pasta': 12, 'pizza': 8, 'bread': 4, 'coffee': 4, 'tacos': 12, 'taco': 4, 'burgers': 8, 'burger': 4, 'cheese': 4})\n"
     ]
    }
   ],
   "source": [
    "#know your \n",
    "for food in food_list:\n",
    "    #food_counts[food] = food_count[food] + 1 #long\n",
    "    food_counts[food] += 1 #+= means it will increment itself by 1\n",
    "print (food_counts)"
   ]
  },
  {
   "cell_type": "code",
   "execution_count": 19,
   "metadata": {},
   "outputs": [
    {
     "name": "stdout",
     "output_type": "stream",
     "text": [
      "8\n"
     ]
    }
   ],
   "source": [
    "print (food_counts['pizza'])"
   ]
  },
  {
   "cell_type": "code",
   "execution_count": 20,
   "metadata": {},
   "outputs": [
    {
     "name": "stdout",
     "output_type": "stream",
     "text": [
      "0\n"
     ]
    }
   ],
   "source": [
    "#if we didn't set default, then it would have returned an error: value is not present\n",
    "print (food_counts['steak'])"
   ]
  },
  {
   "cell_type": "code",
   "execution_count": 21,
   "metadata": {},
   "outputs": [
    {
     "name": "stdout",
     "output_type": "stream",
     "text": [
      "defaultdict(<class 'int'>, {'pasta': 12, 'pizza': 8, 'bread': 4, 'coffee': 4, 'tacos': 12, 'taco': 4, 'burgers': 8, 'burger': 4, 'cheese': 4, 'steak': 0})\n"
     ]
    }
   ],
   "source": [
    "#steak is added bc we are initializing an empty key\n",
    "print (food_counts)"
   ]
  },
  {
   "cell_type": "code",
   "execution_count": 27,
   "metadata": {},
   "outputs": [
    {
     "name": "stdout",
     "output_type": "stream",
     "text": [
      "0\n",
      "12\n",
      "6\n"
     ]
    }
   ],
   "source": [
    "food_counts['tofu'] #will add empty key named tofu into our list\n",
    "print (food_counts['tofu'])\n",
    "print (food_counts['pasta'])\n",
    "x=6\n",
    "print (x)"
   ]
  },
  {
   "cell_type": "code",
   "execution_count": 25,
   "metadata": {},
   "outputs": [
    {
     "name": "stdout",
     "output_type": "stream",
     "text": [
      "defaultdict(<class 'int'>, {'pasta': 12, 'pizza': 8, 'bread': 4, 'coffee': 4, 'tacos': 12, 'taco': 4, 'burgers': 8, 'burger': 4, 'cheese': 4, 'steak': 0, 'tofu': 0})\n"
     ]
    }
   ],
   "source": [
    "print (food_counts)"
   ]
  },
  {
   "cell_type": "code",
   "execution_count": 26,
   "metadata": {},
   "outputs": [
    {
     "name": "stdout",
     "output_type": "stream",
     "text": [
      "['pasta', 'pizza', 'bread', 'pizza', 'coffee', 'tacos', 'taco', 'tacos', 'burgers', 'burger', 'burgers', 'tacos', 'pasta', 'pasta', 'cheese']\n"
     ]
    }
   ],
   "source": [
    "print (food_list)"
   ]
  },
  {
   "cell_type": "code",
   "execution_count": 28,
   "metadata": {},
   "outputs": [
    {
     "name": "stdout",
     "output_type": "stream",
     "text": [
      "[('TX', 'Austin'), ('TX', 'Houston'), ('NY', 'Albany'), ('NY', 'Syracuse'), ('NY', 'Buffalo'), ('NY', 'Rochester'), ('TX', 'Dallas'), ('CA', 'Sacramento'), ('CA', 'Palo Alto'), ('GA', 'Atlanta')]\n"
     ]
    }
   ],
   "source": [
    "city_list = [('TX','Austin'), ('TX','Houston'), ('NY','Albany'), ('NY', 'Syracuse'), ('NY', 'Buffalo'), ('NY', 'Rochester'), ('TX', 'Dallas'), ('CA','Sacramento'), ('CA', 'Palo Alto'), ('GA', 'Atlanta')]\n",
    "print (city_list)"
   ]
  },
  {
   "cell_type": "code",
   "execution_count": 29,
   "metadata": {},
   "outputs": [
    {
     "name": "stdout",
     "output_type": "stream",
     "text": [
      "defaultdict(<class 'list'>, {})\n"
     ]
    }
   ],
   "source": [
    "#squared brackets means list\n",
    "cities_by_state = defaultdict(list)\n",
    "print (cities_by_state)"
   ]
  },
  {
   "cell_type": "code",
   "execution_count": null,
   "metadata": {},
   "outputs": [],
   "source": [
    "\n",
    "\n",
    "for cities in city_list:\n",
    "    cities_by_state"
   ]
  }
 ],
 "metadata": {
  "kernelspec": {
   "display_name": "Python 3",
   "language": "python",
   "name": "python3"
  },
  "language_info": {
   "codemirror_mode": {
    "name": "ipython",
    "version": 3
   },
   "file_extension": ".py",
   "mimetype": "text/x-python",
   "name": "python",
   "nbconvert_exporter": "python",
   "pygments_lexer": "ipython3",
   "version": "3.7.5"
  }
 },
 "nbformat": 4,
 "nbformat_minor": 2
}
