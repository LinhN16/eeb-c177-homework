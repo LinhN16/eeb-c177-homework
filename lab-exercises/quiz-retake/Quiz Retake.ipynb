{
 "cells": [
  {
   "cell_type": "markdown",
   "metadata": {},
   "source": [
    "## 1)"
   ]
  },
  {
   "cell_type": "code",
   "execution_count": 2,
   "metadata": {},
   "outputs": [
    {
     "name": "stdout",
     "output_type": "stream",
     "text": [
      "[45, 4, 3.32, 'abc', 10121]\n"
     ]
    }
   ],
   "source": [
    "# A list in Python is a type of data structure that has values that are able to be changed.\n",
    "# The items within a list are placed inside a square bracket [] and separated by commas.\n",
    "# The items can be any kind of data type.\n",
    "\n",
    "my_list = [45, 4, 3.32, 'abc', 10121]\n",
    "print (my_list)"
   ]
  },
  {
   "cell_type": "markdown",
   "metadata": {},
   "source": [
    "## 2)"
   ]
  },
  {
   "cell_type": "code",
   "execution_count": 3,
   "metadata": {},
   "outputs": [],
   "source": [
    "# A defaultdict() will use a value that you set as the default if a key has not been defined.\n",
    "# Whereas a dict() will output an error if the key doesn't exist"
   ]
  },
  {
   "cell_type": "markdown",
   "metadata": {},
   "source": [
    "## 3)"
   ]
  },
  {
   "cell_type": "code",
   "execution_count": 5,
   "metadata": {},
   "outputs": [
    {
     "name": "stdout",
     "output_type": "stream",
     "text": [
      "A\n"
     ]
    }
   ],
   "source": [
    "# C will be the output because, in this line of code, integer values 4 and 5 are being compared.\n",
    "# If the argument is satisfied, it will print the corresponding letter as output.\n",
    "# Since 4 is less than 5, it will print out C as aforementioned.\n",
    "\n",
    "if 4 < 5:\n",
    "    print('A')\n",
    "elif 4 < 5:\n",
    "    print('B')\n",
    "elif 4 == 5:\n",
    "    print('C')\n",
    "    \n",
    "# This shows that the code is read sequentially until the argument is satisfied.\n",
    "# In this case, it printed A because the argument is true."
   ]
  },
  {
   "cell_type": "markdown",
   "metadata": {},
   "source": [
    "## 4a)"
   ]
  },
  {
   "cell_type": "code",
   "execution_count": 7,
   "metadata": {},
   "outputs": [],
   "source": [
    "from collections import defaultdict as aa\n",
    "my_dict = aa(int)\n",
    "\n",
    "# It is necessary to import collections in order to be able to use default dict()\n",
    "# Without importing, default dict() would not run the set of functons within collections and produce an error\n",
    "# I am calling my_dict as aa (bc it's shorter) and telling it to count in integers"
   ]
  },
  {
   "cell_type": "code",
   "execution_count": 8,
   "metadata": {},
   "outputs": [],
   "source": [
    "new_dict=aa(str)\n",
    "\n",
    "# This dictionary will only utilize string elements when using the dictionary, other data types will not work"
   ]
  },
  {
   "cell_type": "markdown",
   "metadata": {},
   "source": [
    "## 4b)"
   ]
  },
  {
   "cell_type": "code",
   "execution_count": 12,
   "metadata": {},
   "outputs": [
    {
     "name": "stdout",
     "output_type": "stream",
     "text": [
      "['spam', 'spam', 'spam', 'spam', 'spam', 'spam', 'eggs', 'spam']\n"
     ]
    }
   ],
   "source": [
    "food_list = 'spam spam spam spam spam spam eggs spam'\n",
    "new_food_list = food_list.split()\n",
    "print (new_food_list)\n",
    "\n",
    "# First line defines the food list as a string separated by spaces\n",
    "# Defines a new value using the food_list and splitting it into a list of values separated by commas\n",
    "# The split function reads the string and separates each word into a new item when it sees a white space"
   ]
  },
  {
   "cell_type": "code",
   "execution_count": 13,
   "metadata": {},
   "outputs": [
    {
     "name": "stdout",
     "output_type": "stream",
     "text": [
      "['spa', ' spa', ' spa', ' spa', ' spa', ' spa', ' eggs spa', '']\n"
     ]
    }
   ],
   "source": [
    "food_list = 'spam spam spam spam spam spam eggs spam'\n",
    "changed_food_list = food_list.split(\"m\")\n",
    "print (changed_food_list)\n",
    "\n",
    "# This manipulated code uses the split function and separates things as new item every time is reads an \"m\"\n",
    "# The delimiter that you set to split is not reflected in the new list because it is now being used as a place holder to know to make a new item"
   ]
  },
  {
   "cell_type": "markdown",
   "metadata": {},
   "source": [
    "## 4c)"
   ]
  },
  {
   "cell_type": "code",
   "execution_count": 15,
   "metadata": {},
   "outputs": [
    {
     "name": "stdout",
     "output_type": "stream",
     "text": [
      "defaultdict(<class 'int'>, {'spam': 7, 'eggs': 1})\n"
     ]
    }
   ],
   "source": [
    "my_dict = aa(int)\n",
    "for items in new_food_list:\n",
    "    my_dict[items]+=1\n",
    "\n",
    "print (my_dict)\n",
    "\n",
    "# We are using the default dict() from a and having it output the count as an integer\n",
    "# for loop to count the items in the new_food_list that we made in 4b\n",
    "# For every item in the dictionary, it will start at 0 and add a count of 1 every time the item shows up in the dictionary"
   ]
  },
  {
   "cell_type": "code",
   "execution_count": 19,
   "metadata": {},
   "outputs": [
    {
     "name": "stdout",
     "output_type": "stream",
     "text": [
      "This word has 4 letters\n"
     ]
    }
   ],
   "source": [
    "for items in new_food_list:\n",
    "    item_length = len(items)\n",
    "    first_letter = items[0]\n",
    "    \n",
    "print (\"This word has \" + str(items_length) +\" letters\")"
   ]
  },
  {
   "cell_type": "markdown",
   "metadata": {},
   "source": [
    "## 5)"
   ]
  },
  {
   "cell_type": "code",
   "execution_count": 33,
   "metadata": {},
   "outputs": [
    {
     "name": "stdout",
     "output_type": "stream",
     "text": [
      "['THIS', 'IS', 'MY', 'LIST', 'OF', 'WORDS']\n"
     ]
    }
   ],
   "source": [
    "words = [\"this\", \"is\", \"my\", \"list\", \"of\", \"words\"]\n",
    "bigwords = []\n",
    "for cap in words:\n",
    "    bigwords.append(cap.upper())\n",
    "print (bigwords)"
   ]
  },
  {
   "cell_type": "markdown",
   "metadata": {},
   "source": [
    "## 6)"
   ]
  },
  {
   "cell_type": "code",
   "execution_count": 34,
   "metadata": {},
   "outputs": [
    {
     "name": "stdout",
     "output_type": "stream",
     "text": [
      "0\n",
      "1\n",
      "4\n",
      "9\n",
      "16\n",
      "25\n",
      "36\n",
      "49\n",
      "64\n",
      "81\n"
     ]
    }
   ],
   "source": [
    "number = 10\n",
    "for x in range(number):\n",
    " output = x**2\n",
    " print(output)"
   ]
  },
  {
   "cell_type": "markdown",
   "metadata": {},
   "source": [
    "## 7)"
   ]
  },
  {
   "cell_type": "code",
   "execution_count": 35,
   "metadata": {},
   "outputs": [],
   "source": [
    "#a) ==\n",
    "#b) !=\n",
    "#c) >=\n",
    "#d) %"
   ]
  },
  {
   "cell_type": "markdown",
   "metadata": {},
   "source": [
    "## 8)"
   ]
  },
  {
   "cell_type": "code",
   "execution_count": 36,
   "metadata": {},
   "outputs": [],
   "source": [
    "# pop is used to remove the last element of a list"
   ]
  },
  {
   "cell_type": "markdown",
   "metadata": {},
   "source": [
    "## 9)"
   ]
  },
  {
   "cell_type": "code",
   "execution_count": 38,
   "metadata": {},
   "outputs": [],
   "source": [
    "# To find the length "
   ]
  },
  {
   "cell_type": "markdown",
   "metadata": {},
   "source": [
    "## 10)"
   ]
  },
  {
   "cell_type": "code",
   "execution_count": 39,
   "metadata": {},
   "outputs": [
    {
     "name": "stdout",
     "output_type": "stream",
     "text": [
      "{0, 2, 4, 6, 8, 10, 12, 14, 16, 18, 20, 22, 24, 26, 28, 30, 32, 34, 36, 38, 40, 42, 44, 46, 48, 50, 52, 54, 56, 58, 60, 62, 64, 66, 68, 70, 72, 74, 76, 78, 80, 82, 84, 86, 88, 90, 92, 94, 96, 98, 100}\n"
     ]
    }
   ],
   "source": [
    "evens = {number for number in range (0,101) if number%2==0}\n",
    "print (evens)"
   ]
  },
  {
   "cell_type": "code",
   "execution_count": null,
   "metadata": {},
   "outputs": [],
   "source": []
  }
 ],
 "metadata": {
  "kernelspec": {
   "display_name": "Python 3",
   "language": "python",
   "name": "python3"
  },
  "language_info": {
   "codemirror_mode": {
    "name": "ipython",
    "version": 3
   },
   "file_extension": ".py",
   "mimetype": "text/x-python",
   "name": "python",
   "nbconvert_exporter": "python",
   "pygments_lexer": "ipython3",
   "version": "3.7.5"
  }
 },
 "nbformat": 4,
 "nbformat_minor": 2
}
